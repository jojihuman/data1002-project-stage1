{
 "cells": [
  {
   "cell_type": "code",
   "execution_count": 1,
   "metadata": {},
   "outputs": [
    {
     "name": "stdout",
     "output_type": "stream",
     "text": [
      "The average Social support score around the world in 2021 is found to be: 0.8147449664429529\n"
     ]
    }
   ],
   "source": [
    "#import the pandas module\n",
    "import pandas as pd\n",
    " \n",
    "#read original csv\n",
    "data = pd.read_csv(\"world-happiness-report-2021-final.csv\")\n",
    " \n",
    "#extract data as a data frame\n",
    "df = pd.DataFrame(data)\n",
    " \n",
    "#use the .mean() function to find the average social support score\n",
    "average = df['Social support'].mean()\n",
    "print(\"The average Social support score around the world in 2021 is found to be: \" + str(average))"
   ]
  },
  {
   "cell_type": "code",
   "execution_count": 4,
   "metadata": {},
   "outputs": [
    {
     "name": "stdout",
     "output_type": "stream",
     "text": [
      "The highest life expectancy recorded in the dataset was: 76.953\n"
     ]
    }
   ],
   "source": [
    "#import the pandas module\n",
    "import pandas as pd\n",
    "#read original csv\n",
    "data = pd.read_csv(\"world-happiness-report-2021-final.csv\")\n",
    "\n",
    "#extract data as a data frame\n",
    "df = pd.DataFrame(data)\n",
    "#use the .max() function to find the average social support score\n",
    "highest = df['Healthy life expectancy'].max()\n",
    "print(\"The highest life expectancy recorded in the dataset was: \"+ str(highest))"
   ]
  },
  {
   "cell_type": "code",
   "execution_count": 4,
   "metadata": {},
   "outputs": [
    {
     "data": {
      "text/plain": [
       "Regional indicator\n",
       "Central and Eastern Europe            17\n",
       "Commonwealth of Independent States    12\n",
       "East Asia                              6\n",
       "Latin America and Caribbean           20\n",
       "Middle East and North Africa          17\n",
       "North America and ANZ                  4\n",
       "South Asia                             7\n",
       "Southeast Asia                         9\n",
       "Sub-Saharan Africa                    36\n",
       "Western Europe                        21\n",
       "Name: Country name, dtype: int64"
      ]
     },
     "execution_count": 4,
     "metadata": {},
     "output_type": "execute_result"
    }
   ],
   "source": [
    "#import the pandas module\n",
    "import pandas as pd\n",
    "\n",
    "#load data from spreadsheet\n",
    "region_data = pd.read_csv(\"world-happiness-report-2021-final.csv\")\n",
    "\n",
    "#group the region indicatior count\n",
    "\n",
    "region_data.groupby('Regional indicator')['Country name'].count()"
   ]
  },
  {
   "cell_type": "code",
   "execution_count": 1,
   "metadata": {},
   "outputs": [
    {
     "name": "stdout",
     "output_type": "stream",
     "text": [
      "134\n"
     ]
    }
   ],
   "source": [
    "country_data = {}\n",
    "is_first_line = True\n",
    " \n",
    "#open and read the csv file\n",
    "for row in open(\"world-happiness-report-cleaned.csv\"):\n",
    "    if is_first_line:\n",
    "        is_first_line = False\n",
    "    else:\n",
    "        #split the values\n",
    "        values = row.split(\",\")\n",
    "        country = values[0]\n",
    "        year = int(values[1])\n",
    "        if country not in country_data:\n",
    "            #record the amount of countries listed, use year as recording value\n",
    "            country_data[country] = year\n",
    " \n",
    "#print the amount of countries\n",
    "print(len(country_data))"
   ]
  },
  {
   "cell_type": "code",
   "execution_count": 2,
   "metadata": {},
   "outputs": [
    {
     "name": "stdout",
     "output_type": "stream",
     "text": [
      "149\n"
     ]
    }
   ],
   "source": [
    "country_data = {}\n",
    "is_first_line = True\n",
    " \n",
    "#open and read the csv file\n",
    "for row in open(\"world-happiness-report-2021-final.csv\"):\n",
    "    if is_first_line:\n",
    "        is_first_line = False\n",
    "    else:\n",
    "        #split the values\n",
    "        values = row.split(\",\")\n",
    "        country = values[0]\n",
    "        year = int(values[1])\n",
    "        if country not in country_data:\n",
    "            #record the amount of countries listed, use year as recording value\n",
    "            country_data[country] = year\n",
    " \n",
    "#print the amount of countries\n",
    "print(len(country_data))"
   ]
  },
  {
   "cell_type": "code",
   "execution_count": null,
   "metadata": {},
   "outputs": [],
   "source": []
  }
 ],
 "metadata": {
  "interpreter": {
   "hash": "4f3b078249380ea762697f4f8f6aea77b3d6e43cbb1b18cbb73d8cde5aa597e7"
  },
  "kernelspec": {
   "display_name": "Python 3",
   "language": "python",
   "name": "python3"
  },
  "language_info": {
   "codemirror_mode": {
    "name": "ipython",
    "version": 3
   },
   "file_extension": ".py",
   "mimetype": "text/x-python",
   "name": "python",
   "nbconvert_exporter": "python",
   "pygments_lexer": "ipython3",
   "version": "3.8.8"
  }
 },
 "nbformat": 4,
 "nbformat_minor": 2
}
